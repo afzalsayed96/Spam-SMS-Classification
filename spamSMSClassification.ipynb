{
 "cells": [
  {
   "cell_type": "code",
   "execution_count": 8,
   "metadata": {
    "collapsed": true
   },
   "outputs": [],
   "source": [
    "import pandas as pd\n",
    "messages = pd.read_csv('smsspamcollection/SMSSpamCollection', sep='\\t', names=['labels', 'messages'])"
   ]
  },
  {
   "cell_type": "code",
   "execution_count": 9,
   "metadata": {},
   "outputs": [
    {
     "data": {
      "text/html": [
       "<div>\n",
       "<style>\n",
       "    .dataframe thead tr:only-child th {\n",
       "        text-align: right;\n",
       "    }\n",
       "\n",
       "    .dataframe thead th {\n",
       "        text-align: left;\n",
       "    }\n",
       "\n",
       "    .dataframe tbody tr th {\n",
       "        vertical-align: top;\n",
       "    }\n",
       "</style>\n",
       "<table border=\"1\" class=\"dataframe\">\n",
       "  <thead>\n",
       "    <tr style=\"text-align: right;\">\n",
       "      <th></th>\n",
       "      <th>labels</th>\n",
       "      <th>messages</th>\n",
       "    </tr>\n",
       "  </thead>\n",
       "  <tbody>\n",
       "    <tr>\n",
       "      <th>0</th>\n",
       "      <td>ham</td>\n",
       "      <td>Go until jurong point, crazy.. Available only ...</td>\n",
       "    </tr>\n",
       "    <tr>\n",
       "      <th>1</th>\n",
       "      <td>ham</td>\n",
       "      <td>Ok lar... Joking wif u oni...</td>\n",
       "    </tr>\n",
       "    <tr>\n",
       "      <th>2</th>\n",
       "      <td>spam</td>\n",
       "      <td>Free entry in 2 a wkly comp to win FA Cup fina...</td>\n",
       "    </tr>\n",
       "    <tr>\n",
       "      <th>3</th>\n",
       "      <td>ham</td>\n",
       "      <td>U dun say so early hor... U c already then say...</td>\n",
       "    </tr>\n",
       "    <tr>\n",
       "      <th>4</th>\n",
       "      <td>ham</td>\n",
       "      <td>Nah I don't think he goes to usf, he lives aro...</td>\n",
       "    </tr>\n",
       "  </tbody>\n",
       "</table>\n",
       "</div>"
      ],
      "text/plain": [
       "  labels                                           messages\n",
       "0    ham  Go until jurong point, crazy.. Available only ...\n",
       "1    ham                      Ok lar... Joking wif u oni...\n",
       "2   spam  Free entry in 2 a wkly comp to win FA Cup fina...\n",
       "3    ham  U dun say so early hor... U c already then say...\n",
       "4    ham  Nah I don't think he goes to usf, he lives aro..."
      ]
     },
     "execution_count": 9,
     "metadata": {},
     "output_type": "execute_result"
    }
   ],
   "source": [
    "messages.head()"
   ]
  },
  {
   "cell_type": "code",
   "execution_count": 10,
   "metadata": {},
   "outputs": [
    {
     "data": {
      "text/html": [
       "<div>\n",
       "<style>\n",
       "    .dataframe thead tr:only-child th {\n",
       "        text-align: right;\n",
       "    }\n",
       "\n",
       "    .dataframe thead th {\n",
       "        text-align: left;\n",
       "    }\n",
       "\n",
       "    .dataframe tbody tr th {\n",
       "        vertical-align: top;\n",
       "    }\n",
       "</style>\n",
       "<table border=\"1\" class=\"dataframe\">\n",
       "  <thead>\n",
       "    <tr style=\"text-align: right;\">\n",
       "      <th></th>\n",
       "      <th>labels</th>\n",
       "      <th>messages</th>\n",
       "    </tr>\n",
       "  </thead>\n",
       "  <tbody>\n",
       "    <tr>\n",
       "      <th>count</th>\n",
       "      <td>5572</td>\n",
       "      <td>5572</td>\n",
       "    </tr>\n",
       "    <tr>\n",
       "      <th>unique</th>\n",
       "      <td>2</td>\n",
       "      <td>5169</td>\n",
       "    </tr>\n",
       "    <tr>\n",
       "      <th>top</th>\n",
       "      <td>ham</td>\n",
       "      <td>Sorry, I'll call later</td>\n",
       "    </tr>\n",
       "    <tr>\n",
       "      <th>freq</th>\n",
       "      <td>4825</td>\n",
       "      <td>30</td>\n",
       "    </tr>\n",
       "  </tbody>\n",
       "</table>\n",
       "</div>"
      ],
      "text/plain": [
       "       labels                messages\n",
       "count    5572                    5572\n",
       "unique      2                    5169\n",
       "top       ham  Sorry, I'll call later\n",
       "freq     4825                      30"
      ]
     },
     "execution_count": 10,
     "metadata": {},
     "output_type": "execute_result"
    }
   ],
   "source": [
    "messages.describe()"
   ]
  },
  {
   "cell_type": "code",
   "execution_count": 11,
   "metadata": {},
   "outputs": [
    {
     "data": {
      "text/html": [
       "<div>\n",
       "<style>\n",
       "    .dataframe thead tr:only-child th {\n",
       "        text-align: right;\n",
       "    }\n",
       "\n",
       "    .dataframe thead th {\n",
       "        text-align: left;\n",
       "    }\n",
       "\n",
       "    .dataframe tbody tr th {\n",
       "        vertical-align: top;\n",
       "    }\n",
       "</style>\n",
       "<table border=\"1\" class=\"dataframe\">\n",
       "  <thead>\n",
       "    <tr>\n",
       "      <th></th>\n",
       "      <th colspan=\"4\" halign=\"left\">messages</th>\n",
       "    </tr>\n",
       "    <tr>\n",
       "      <th></th>\n",
       "      <th>count</th>\n",
       "      <th>unique</th>\n",
       "      <th>top</th>\n",
       "      <th>freq</th>\n",
       "    </tr>\n",
       "    <tr>\n",
       "      <th>labels</th>\n",
       "      <th></th>\n",
       "      <th></th>\n",
       "      <th></th>\n",
       "      <th></th>\n",
       "    </tr>\n",
       "  </thead>\n",
       "  <tbody>\n",
       "    <tr>\n",
       "      <th>ham</th>\n",
       "      <td>4825</td>\n",
       "      <td>4516</td>\n",
       "      <td>Sorry, I'll call later</td>\n",
       "      <td>30</td>\n",
       "    </tr>\n",
       "    <tr>\n",
       "      <th>spam</th>\n",
       "      <td>747</td>\n",
       "      <td>653</td>\n",
       "      <td>Please call our customer service representativ...</td>\n",
       "      <td>4</td>\n",
       "    </tr>\n",
       "  </tbody>\n",
       "</table>\n",
       "</div>"
      ],
      "text/plain": [
       "       messages                                                               \n",
       "          count unique                                                top freq\n",
       "labels                                                                        \n",
       "ham        4825   4516                             Sorry, I'll call later   30\n",
       "spam        747    653  Please call our customer service representativ...    4"
      ]
     },
     "execution_count": 11,
     "metadata": {},
     "output_type": "execute_result"
    }
   ],
   "source": [
    "messages.groupby('labels').describe()"
   ]
  },
  {
   "cell_type": "code",
   "execution_count": 12,
   "metadata": {},
   "outputs": [
    {
     "data": {
      "text/html": [
       "<div>\n",
       "<style>\n",
       "    .dataframe thead tr:only-child th {\n",
       "        text-align: right;\n",
       "    }\n",
       "\n",
       "    .dataframe thead th {\n",
       "        text-align: left;\n",
       "    }\n",
       "\n",
       "    .dataframe tbody tr th {\n",
       "        vertical-align: top;\n",
       "    }\n",
       "</style>\n",
       "<table border=\"1\" class=\"dataframe\">\n",
       "  <thead>\n",
       "    <tr style=\"text-align: right;\">\n",
       "      <th></th>\n",
       "      <th>labels</th>\n",
       "      <th>messages</th>\n",
       "    </tr>\n",
       "  </thead>\n",
       "  <tbody>\n",
       "    <tr>\n",
       "      <th>0</th>\n",
       "      <td>ham</td>\n",
       "      <td>Go until jurong point, crazy.. Available only ...</td>\n",
       "    </tr>\n",
       "    <tr>\n",
       "      <th>1</th>\n",
       "      <td>ham</td>\n",
       "      <td>Ok lar... Joking wif u oni...</td>\n",
       "    </tr>\n",
       "    <tr>\n",
       "      <th>2</th>\n",
       "      <td>spam</td>\n",
       "      <td>Free entry in 2 a wkly comp to win FA Cup fina...</td>\n",
       "    </tr>\n",
       "    <tr>\n",
       "      <th>3</th>\n",
       "      <td>ham</td>\n",
       "      <td>U dun say so early hor... U c already then say...</td>\n",
       "    </tr>\n",
       "    <tr>\n",
       "      <th>4</th>\n",
       "      <td>ham</td>\n",
       "      <td>Nah I don't think he goes to usf, he lives aro...</td>\n",
       "    </tr>\n",
       "  </tbody>\n",
       "</table>\n",
       "</div>"
      ],
      "text/plain": [
       "  labels                                           messages\n",
       "0    ham  Go until jurong point, crazy.. Available only ...\n",
       "1    ham                      Ok lar... Joking wif u oni...\n",
       "2   spam  Free entry in 2 a wkly comp to win FA Cup fina...\n",
       "3    ham  U dun say so early hor... U c already then say...\n",
       "4    ham  Nah I don't think he goes to usf, he lives aro..."
      ]
     },
     "execution_count": 12,
     "metadata": {},
     "output_type": "execute_result"
    }
   ],
   "source": [
    "messages.head()\n",
    "    "
   ]
  },
  {
   "cell_type": "code",
   "execution_count": 13,
   "metadata": {
    "collapsed": true
   },
   "outputs": [],
   "source": [
    "messages['length'] = messages['messages'].apply(len)"
   ]
  },
  {
   "cell_type": "code",
   "execution_count": 14,
   "metadata": {
    "collapsed": true
   },
   "outputs": [],
   "source": [
    "# messages.groupby('messages').describe()"
   ]
  },
  {
   "cell_type": "code",
   "execution_count": 15,
   "metadata": {},
   "outputs": [
    {
     "data": {
      "text/html": [
       "<div>\n",
       "<style>\n",
       "    .dataframe thead tr:only-child th {\n",
       "        text-align: right;\n",
       "    }\n",
       "\n",
       "    .dataframe thead th {\n",
       "        text-align: left;\n",
       "    }\n",
       "\n",
       "    .dataframe tbody tr th {\n",
       "        vertical-align: top;\n",
       "    }\n",
       "</style>\n",
       "<table border=\"1\" class=\"dataframe\">\n",
       "  <thead>\n",
       "    <tr style=\"text-align: right;\">\n",
       "      <th></th>\n",
       "      <th>labels</th>\n",
       "      <th>messages</th>\n",
       "      <th>length</th>\n",
       "    </tr>\n",
       "  </thead>\n",
       "  <tbody>\n",
       "    <tr>\n",
       "      <th>0</th>\n",
       "      <td>ham</td>\n",
       "      <td>Go until jurong point, crazy.. Available only ...</td>\n",
       "      <td>111</td>\n",
       "    </tr>\n",
       "    <tr>\n",
       "      <th>1</th>\n",
       "      <td>ham</td>\n",
       "      <td>Ok lar... Joking wif u oni...</td>\n",
       "      <td>29</td>\n",
       "    </tr>\n",
       "    <tr>\n",
       "      <th>2</th>\n",
       "      <td>spam</td>\n",
       "      <td>Free entry in 2 a wkly comp to win FA Cup fina...</td>\n",
       "      <td>155</td>\n",
       "    </tr>\n",
       "    <tr>\n",
       "      <th>3</th>\n",
       "      <td>ham</td>\n",
       "      <td>U dun say so early hor... U c already then say...</td>\n",
       "      <td>49</td>\n",
       "    </tr>\n",
       "    <tr>\n",
       "      <th>4</th>\n",
       "      <td>ham</td>\n",
       "      <td>Nah I don't think he goes to usf, he lives aro...</td>\n",
       "      <td>61</td>\n",
       "    </tr>\n",
       "  </tbody>\n",
       "</table>\n",
       "</div>"
      ],
      "text/plain": [
       "  labels                                           messages  length\n",
       "0    ham  Go until jurong point, crazy.. Available only ...     111\n",
       "1    ham                      Ok lar... Joking wif u oni...      29\n",
       "2   spam  Free entry in 2 a wkly comp to win FA Cup fina...     155\n",
       "3    ham  U dun say so early hor... U c already then say...      49\n",
       "4    ham  Nah I don't think he goes to usf, he lives aro...      61"
      ]
     },
     "execution_count": 15,
     "metadata": {},
     "output_type": "execute_result"
    }
   ],
   "source": [
    "messages.head()\n"
   ]
  },
  {
   "cell_type": "code",
   "execution_count": 16,
   "metadata": {
    "collapsed": true
   },
   "outputs": [],
   "source": [
    "import matplotlib.pyplot as plt\n",
    "import seaborn as sns\n"
   ]
  },
  {
   "cell_type": "code",
   "execution_count": 17,
   "metadata": {},
   "outputs": [
    {
     "data": {
      "text/plain": [
       "<matplotlib.axes._subplots.AxesSubplot at 0x7fe87fee7550>"
      ]
     },
     "execution_count": 17,
     "metadata": {},
     "output_type": "execute_result"
    },
    {
     "data": {
      "image/png": "[encoded data removed]",
      "text/plain": [
       "<matplotlib.figure.Figure at 0x7fe88035ce10>"
      ]
     },
     "metadata": {},
     "output_type": "display_data"
    }
   ],
   "source": [
    "%matplotlib inline\n",
    "\n",
    "messages['length'].plot.hist(bins=50)"
   ]
  },
  {
   "cell_type": "code",
   "execution_count": 18,
   "metadata": {},
   "outputs": [
    {
     "data": {
      "text/plain": [
       "count    5572.000000\n",
       "mean       80.489950\n",
       "std        59.942907\n",
       "min         2.000000\n",
       "25%        36.000000\n",
       "50%        62.000000\n",
       "75%       122.000000\n",
       "max       910.000000\n",
       "Name: length, dtype: float64"
      ]
     },
     "execution_count": 18,
     "metadata": {},
     "output_type": "execute_result"
    }
   ],
   "source": [
    "messages['length'].describe()"
   ]
  },
  {
   "cell_type": "code",
   "execution_count": 19,
   "metadata": {},
   "outputs": [
    {
     "data": {
      "text/plain": [
       "\"For me the love should start with attraction.i should feel that I need her every time around me.she should be the first thing which comes in my thoughts.I would start the day and end it with her.she should be there every time I dream.love will be then when my every breath has her name.my life should happen around her.my life will be named to her.I would cry for her.will give all my happiness and take all her sorrows.I will be ready to fight with anyone for her.I will be in love when I will be doing the craziest things for her.love will be when I don't have to proove anyone that my girl is the most beautiful lady on the whole planet.I will always be singing praises for her.love will be when I start up making chicken curry and end up makiing sambar.life will be the most beautiful then.will get every morning and thank god for the day because she is with me.I would like to say a lot..will tell later..\""
      ]
     },
     "execution_count": 19,
     "metadata": {},
     "output_type": "execute_result"
    }
   ],
   "source": [
    "messages[messages['length'] == 910 ]['messages'].iloc[0]"
   ]
  },
  {
   "cell_type": "code",
   "execution_count": 20,
   "metadata": {},
   "outputs": [
    {
     "data": {
      "text/plain": [
       "array([<matplotlib.axes._subplots.AxesSubplot object at 0x7fe87dd836a0>,\n",
       "       <matplotlib.axes._subplots.AxesSubplot object at 0x7fe87dda6128>], dtype=object)"
      ]
     },
     "execution_count": 20,
     "metadata": {},
     "output_type": "execute_result"
    },
    {
     "data": {
      "image/png": "[encoded data removed]",
      "text/plain": [
       "<matplotlib.figure.Figure at 0x7fe87dd11748>"
      ]
     },
     "metadata": {},
     "output_type": "display_data"
    }
   ],
   "source": [
    "messages.hist(column='length', by='labels', bins=150, figsize=(12, 4))\n",
    "\n",
    "# X axis shows sms size\n",
    "# Y axis shows frequency of sms of that size"
   ]
  },
  {
   "cell_type": "code",
   "execution_count": 21,
   "metadata": {
    "collapsed": true
   },
   "outputs": [],
   "source": [
    "import string\n"
   ]
  },
  {
   "cell_type": "code",
   "execution_count": 22,
   "metadata": {},
   "outputs": [
    {
     "data": {
      "text/plain": [
       "['!',\n",
       " '\"',\n",
       " '#',\n",
       " '$',\n",
       " '%',\n",
       " '&',\n",
       " \"'\",\n",
       " '(',\n",
       " ')',\n",
       " '*',\n",
       " '+',\n",
       " ',',\n",
       " '-',\n",
       " '.',\n",
       " '/',\n",
       " ':',\n",
       " ';',\n",
       " '<',\n",
       " '=',\n",
       " '>',\n",
       " '?',\n",
       " '@',\n",
       " '[',\n",
       " '\\\\',\n",
       " ']',\n",
       " '^',\n",
       " '_',\n",
       " '`',\n",
       " '{',\n",
       " '|',\n",
       " '}',\n",
       " '~']"
      ]
     },
     "execution_count": 22,
     "metadata": {},
     "output_type": "execute_result"
    }
   ],
   "source": [
    "list(string.punctuation)"
   ]
  },
  {
   "cell_type": "code",
   "execution_count": 23,
   "metadata": {
    "collapsed": true
   },
   "outputs": [],
   "source": [
    "punc = '#This string is full -of crap and spam!! DaYM how do I handle this?'"
   ]
  },
  {
   "cell_type": "code",
   "execution_count": 24,
   "metadata": {},
   "outputs": [
    {
     "data": {
      "text/plain": [
       "['T',\n",
       " 'h',\n",
       " 'i',\n",
       " 's',\n",
       " ' ',\n",
       " 's',\n",
       " 't',\n",
       " 'r',\n",
       " 'i',\n",
       " 'n',\n",
       " 'g',\n",
       " ' ',\n",
       " 'i',\n",
       " 's',\n",
       " ' ',\n",
       " 'f',\n",
       " 'u',\n",
       " 'l',\n",
       " 'l',\n",
       " ' ',\n",
       " 'o',\n",
       " 'f',\n",
       " ' ',\n",
       " 'c',\n",
       " 'r',\n",
       " 'a',\n",
       " 'p',\n",
       " ' ',\n",
       " 'a',\n",
       " 'n',\n",
       " 'd',\n",
       " ' ',\n",
       " 's',\n",
       " 'p',\n",
       " 'a',\n",
       " 'm',\n",
       " ' ',\n",
       " 'D',\n",
       " 'a',\n",
       " 'Y',\n",
       " 'M',\n",
       " ' ',\n",
       " 'h',\n",
       " 'o',\n",
       " 'w',\n",
       " ' ',\n",
       " 'd',\n",
       " 'o',\n",
       " ' ',\n",
       " 'I',\n",
       " ' ',\n",
       " 'h',\n",
       " 'a',\n",
       " 'n',\n",
       " 'd',\n",
       " 'l',\n",
       " 'e',\n",
       " ' ',\n",
       " 't',\n",
       " 'h',\n",
       " 'i',\n",
       " 's']"
      ]
     },
     "execution_count": 24,
     "metadata": {},
     "output_type": "execute_result"
    }
   ],
   "source": [
    "nopunc = [c for c in punc if c not in string.punctuation]\n",
    "nopunc"
   ]
  },
  {
   "cell_type": "code",
   "execution_count": 25,
   "metadata": {},
   "outputs": [
    {
     "data": {
      "text/plain": [
       "'This string is full of crap and spam DaYM how do I handle this'"
      ]
     },
     "execution_count": 25,
     "metadata": {},
     "output_type": "execute_result"
    }
   ],
   "source": [
    "''.join(nopunc)"
   ]
  },
  {
   "cell_type": "code",
   "execution_count": 26,
   "metadata": {
    "collapsed": true
   },
   "outputs": [],
   "source": [
    "from nltk.corpus import stopwords"
   ]
  },
  {
   "cell_type": "code",
   "execution_count": 27,
   "metadata": {},
   "outputs": [
    {
     "name": "stdout",
     "output_type": "stream",
     "text": [
      "['i', 'me', 'my', 'myself', 'we', 'our', 'ours', 'ourselves', 'you', 'your', 'yours', 'yourself', 'yourselves', 'he', 'him', 'his', 'himself', 'she', 'her', 'hers', 'herself', 'it', 'its', 'itself', 'they', 'them', 'their', 'theirs', 'themselves', 'what', 'which', 'who', 'whom', 'this', 'that', 'these', 'those', 'am', 'is', 'are', 'was', 'were', 'be', 'been', 'being', 'have', 'has', 'had', 'having', 'do', 'does', 'did', 'doing', 'a', 'an', 'the', 'and', 'but', 'if', 'or', 'because', 'as', 'until', 'while', 'of', 'at', 'by', 'for', 'with', 'about', 'against', 'between', 'into', 'through', 'during', 'before', 'after', 'above', 'below', 'to', 'from', 'up', 'down', 'in', 'out', 'on', 'off', 'over', 'under', 'again', 'further', 'then', 'once', 'here', 'there', 'when', 'where', 'why', 'how', 'all', 'any', 'both', 'each', 'few', 'more', 'most', 'other', 'some', 'such', 'no', 'nor', 'not', 'only', 'own', 'same', 'so', 'than', 'too', 'very', 's', 't', 'can', 'will', 'just', 'don', 'should', 'now', 'd', 'll', 'm', 'o', 're', 've', 'y', 'ain', 'aren', 'couldn', 'didn', 'doesn', 'hadn', 'hasn', 'haven', 'isn', 'ma', 'mightn', 'mustn', 'needn', 'shan', 'shouldn', 'wasn', 'weren', 'won', 'wouldn']\n"
     ]
    }
   ],
   "source": [
    "print(stopwords.words('english'))"
   ]
  },
  {
   "cell_type": "code",
   "execution_count": 28,
   "metadata": {},
   "outputs": [
    {
     "data": {
      "text/plain": [
       "['This',\n",
       " 'string',\n",
       " 'is',\n",
       " 'full',\n",
       " 'of',\n",
       " 'crap',\n",
       " 'and',\n",
       " 'spam',\n",
       " 'DaYM',\n",
       " 'how',\n",
       " 'do',\n",
       " 'I',\n",
       " 'handle',\n",
       " 'this']"
      ]
     },
     "execution_count": 28,
     "metadata": {},
     "output_type": "execute_result"
    }
   ],
   "source": [
    "nopunc = ''.join(nopunc).split()\n",
    "nopunc\n"
   ]
  },
  {
   "cell_type": "code",
   "execution_count": 29,
   "metadata": {
    "collapsed": true
   },
   "outputs": [],
   "source": [
    "clean_text = [word for word in nopunc if word.lower() not in stopwords.words('english')]"
   ]
  },
  {
   "cell_type": "code",
   "execution_count": 30,
   "metadata": {},
   "outputs": [
    {
     "data": {
      "text/plain": [
       "['string', 'full', 'crap', 'spam', 'DaYM', 'handle']"
      ]
     },
     "execution_count": 30,
     "metadata": {},
     "output_type": "execute_result"
    }
   ],
   "source": [
    "clean_text"
   ]
  },
  {
   "cell_type": "code",
   "execution_count": 31,
   "metadata": {
    "collapsed": true
   },
   "outputs": [],
   "source": [
    "def text_cleaner(mess):\n",
    "    \"\"\"\n",
    "    Removing punctuations\n",
    "    Removing stopwords\n",
    "    returning list of clean words\n",
    "    \"\"\"\n",
    "    nopunc_mess = ''.join([c for c in mess if c not in string.punctuation])\n",
    "    \n",
    "    nopunc_mess = nopunc_mess.split()\n",
    "    \n",
    "    cleantext_mess = [word for word in nopunc_mess if word.lower() not in stopwords.words('english')]\n",
    "    \n",
    "    return cleantext_mess\n",
    "    \n",
    "    "
   ]
  },
  {
   "cell_type": "code",
   "execution_count": 32,
   "metadata": {},
   "outputs": [
    {
     "data": {
      "text/html": [
       "<div>\n",
       "<style>\n",
       "    .dataframe thead tr:only-child th {\n",
       "        text-align: right;\n",
       "    }\n",
       "\n",
       "    .dataframe thead th {\n",
       "        text-align: left;\n",
       "    }\n",
       "\n",
       "    .dataframe tbody tr th {\n",
       "        vertical-align: top;\n",
       "    }\n",
       "</style>\n",
       "<table border=\"1\" class=\"dataframe\">\n",
       "  <thead>\n",
       "    <tr style=\"text-align: right;\">\n",
       "      <th></th>\n",
       "      <th>labels</th>\n",
       "      <th>messages</th>\n",
       "      <th>length</th>\n",
       "    </tr>\n",
       "  </thead>\n",
       "  <tbody>\n",
       "    <tr>\n",
       "      <th>0</th>\n",
       "      <td>ham</td>\n",
       "      <td>Go until jurong point, crazy.. Available only ...</td>\n",
       "      <td>111</td>\n",
       "    </tr>\n",
       "    <tr>\n",
       "      <th>1</th>\n",
       "      <td>ham</td>\n",
       "      <td>Ok lar... Joking wif u oni...</td>\n",
       "      <td>29</td>\n",
       "    </tr>\n",
       "    <tr>\n",
       "      <th>2</th>\n",
       "      <td>spam</td>\n",
       "      <td>Free entry in 2 a wkly comp to win FA Cup fina...</td>\n",
       "      <td>155</td>\n",
       "    </tr>\n",
       "    <tr>\n",
       "      <th>3</th>\n",
       "      <td>ham</td>\n",
       "      <td>U dun say so early hor... U c already then say...</td>\n",
       "      <td>49</td>\n",
       "    </tr>\n",
       "    <tr>\n",
       "      <th>4</th>\n",
       "      <td>ham</td>\n",
       "      <td>Nah I don't think he goes to usf, he lives aro...</td>\n",
       "      <td>61</td>\n",
       "    </tr>\n",
       "  </tbody>\n",
       "</table>\n",
       "</div>"
      ],
      "text/plain": [
       "  labels                                           messages  length\n",
       "0    ham  Go until jurong point, crazy.. Available only ...     111\n",
       "1    ham                      Ok lar... Joking wif u oni...      29\n",
       "2   spam  Free entry in 2 a wkly comp to win FA Cup fina...     155\n",
       "3    ham  U dun say so early hor... U c already then say...      49\n",
       "4    ham  Nah I don't think he goes to usf, he lives aro...      61"
      ]
     },
     "execution_count": 32,
     "metadata": {},
     "output_type": "execute_result"
    }
   ],
   "source": [
    "messages.head()"
   ]
  },
  {
   "cell_type": "code",
   "execution_count": 33,
   "metadata": {},
   "outputs": [
    {
     "data": {
      "text/plain": [
       "0    [Go, jurong, point, crazy, Available, bugis, n...\n",
       "1                       [Ok, lar, Joking, wif, u, oni]\n",
       "2    [Free, entry, 2, wkly, comp, win, FA, Cup, fin...\n",
       "3        [U, dun, say, early, hor, U, c, already, say]\n",
       "4    [Nah, dont, think, goes, usf, lives, around, t...\n",
       "Name: messages, dtype: object"
      ]
     },
     "execution_count": 33,
     "metadata": {},
     "output_type": "execute_result"
    }
   ],
   "source": [
    "messages['messages'].head(5).apply(text_cleaner)"
   ]
  },
  {
   "cell_type": "code",
   "execution_count": 34,
   "metadata": {
    "collapsed": true
   },
   "outputs": [],
   "source": [
    "from sklearn.feature_extraction.text import CountVectorizer #It returns a vocabulary of words,\n",
    "#then transform function is used to create a CountVector for every message "
   ]
  },
  {
   "cell_type": "code",
   "execution_count": 35,
   "metadata": {
    "collapsed": true
   },
   "outputs": [],
   "source": [
    "#Here we are providing the countvectorizer a clean list of words, cleaned using our text_cleaner function\n",
    "bow_transformer = CountVectorizer(analyzer=text_cleaner).fit(messages['messages'])\n"
   ]
  },
  {
   "cell_type": "code",
   "execution_count": 36,
   "metadata": {},
   "outputs": [
    {
     "name": "stdout",
     "output_type": "stream",
     "text": [
      "11425\n"
     ]
    },
    {
     "data": {
      "text/plain": [
       "{'V': 4145,\n",
       " 'ip': 7418,\n",
       " 'mag': 7983,\n",
       " 'Lmao': 2641,\n",
       " 'ninish': 8439,\n",
       " 'entered': 6321,\n",
       " 'customers': 5821,\n",
       " 'yr': 11341,\n",
       " 'W4': 4191,\n",
       " 'ull': 10708,\n",
       " 'qet': 9150,\n",
       " 'birla': 5048,\n",
       " 'boyy': 5148,\n",
       " 'trusting': 10653,\n",
       " 'wot': 11178,\n",
       " 'gep': 6822,\n",
       " 'FIFTEEN': 1844,\n",
       " 'Cardiff': 1439,\n",
       " 'saved': 9550,\n",
       " 'Including': 2358,\n",
       " '09061701444': 218,\n",
       " 'HGSuite3422Lands': 2132,\n",
       " 'therexx': 10422,\n",
       " 'HOWDY': 2156,\n",
       " 'tui': 10667,\n",
       " 'completely': 5632,\n",
       " 'aeroplane': 4550,\n",
       " 'DeliveredTomorrow': 1647,\n",
       " 'AGE': 949,\n",
       " 'right': 9422,\n",
       " 'DEAD': 1576,\n",
       " '08715203656': 135,\n",
       " 'radio': 9174,\n",
       " 'gari': 6792,\n",
       " 'maps': 8024,\n",
       " 'b‘ham': 5260,\n",
       " 'heard': 7067,\n",
       " 'tol': 10538,\n",
       " 'meetitz': 8096,\n",
       " 'THERES': 3876,\n",
       " 'see': 9613,\n",
       " 'homeBut': 7160,\n",
       " 'uve': 10811,\n",
       " 'kind': 7619,\n",
       " 'powerful': 8980,\n",
       " 'fox': 6689,\n",
       " 'Unsub': 4125,\n",
       " 'Theres': 3974,\n",
       " 'alternativehope': 4638,\n",
       " 'transfered': 10615,\n",
       " 'deposited': 5966,\n",
       " 'shelves': 9703,\n",
       " 'CARD': 1349,\n",
       " 'Come': 1503,\n",
       " 'M6': 2689,\n",
       " 'loxahatchee': 7929,\n",
       " '09094646631': 279,\n",
       " '40411': 611,\n",
       " 'drizzling': 6172,\n",
       " 'plenty': 8898,\n",
       " 'tops': 10579,\n",
       " 'Truthful': 4040,\n",
       " 'Ask': 1096,\n",
       " 'Ay': 1117,\n",
       " 'surya': 10248,\n",
       " 'seperated鈥┾〨ud': 9653,\n",
       " 'chinchillas': 5493,\n",
       " 'thousands': 10454,\n",
       " 'cliff': 5541,\n",
       " 'Dont4get2text': 1695,\n",
       " 'emergency': 6291,\n",
       " 'vague': 10818,\n",
       " 'tattoos': 10319,\n",
       " 'boundaries': 5134,\n",
       " 'arsenal': 4785,\n",
       " 'important': 7319,\n",
       " 'INDYAROCKSCOM': 2318,\n",
       " '07801543489': 37,\n",
       " 'downstem': 6144,\n",
       " 'SATSOUND\\x92S': 3454,\n",
       " 'monthnot': 8250,\n",
       " 'links': 7819,\n",
       " 'care': 5336,\n",
       " '5min': 716,\n",
       " 'Cornwall': 1521,\n",
       " 'hlday': 7141,\n",
       " '09050000555': 183,\n",
       " 'frm': 6725,\n",
       " 'abdomen': 4463,\n",
       " 'pple700': 8983,\n",
       " 'sighs': 9768,\n",
       " 'xnet': 11267,\n",
       " 'Kkyesterday': 2529,\n",
       " '09066612661': 269,\n",
       " '2morrow': 521,\n",
       " 'Celebrated': 1453,\n",
       " 'signing': 9775,\n",
       " 'thrown': 10464,\n",
       " 'pisces': 8864,\n",
       " '09058097189': 208,\n",
       " 'pai': 8698,\n",
       " 'blessed': 5073,\n",
       " 'drug': 6180,\n",
       " 'cos': 5727,\n",
       " 'Lmaonice': 2642,\n",
       " 'WRLD': 4248,\n",
       " '8hr': 904,\n",
       " 'get4an18th': 6825,\n",
       " '2NITETELL': 496,\n",
       " 'woken': 11135,\n",
       " 'BIRTHDAY': 1164,\n",
       " 'hate': 7045,\n",
       " 'Jos': 2458,\n",
       " 'some1': 9906,\n",
       " 'Neva': 2965,\n",
       " 'marketing': 8031,\n",
       " 'poker': 8919,\n",
       " 'Nowadays': 3019,\n",
       " 'trainners': 10607,\n",
       " 'FINISH': 1851,\n",
       " '09058095107': 206,\n",
       " 'Question': 3314,\n",
       " 'il': 7304,\n",
       " '6986618': 750,\n",
       " 'toot': 10571,\n",
       " 'revealing': 9410,\n",
       " 'attitude': 4834,\n",
       " 'Stockport': 3784,\n",
       " 'opinions': 8609,\n",
       " 'SITUATION': 3494,\n",
       " 'hair': 7001,\n",
       " 'ou': 8648,\n",
       " 'herI': 7099,\n",
       " 'Havent': 2194,\n",
       " 'mahal': 7991,\n",
       " 'Surly': 3824,\n",
       " 'oral': 8625,\n",
       " 'fones': 6644,\n",
       " 'luvs': 7955,\n",
       " 'frying': 6741,\n",
       " 'seekers': 9616,\n",
       " '08714712394': 128,\n",
       " 'Peaceful': 3197,\n",
       " 'TCs': 3850,\n",
       " 'LA1': 2542,\n",
       " 'pizza': 8869,\n",
       " 'coimbatore': 5577,\n",
       " 'wee': 11003,\n",
       " 'north': 8470,\n",
       " 'weather': 10991,\n",
       " 'moves': 8272,\n",
       " 'pretend': 9029,\n",
       " 'stoptxtstop£150week': 10111,\n",
       " '7634': 784,\n",
       " 'Brought': 1318,\n",
       " 'killing': 7615,\n",
       " 'Apparently': 1077,\n",
       " 'responsibility': 9384,\n",
       " 'complain': 5626,\n",
       " 'remain': 9316,\n",
       " 'albumquite': 4603,\n",
       " 'birthday': 5051,\n",
       " 'Wife': 4317,\n",
       " 'welli': 11024,\n",
       " 'korean': 7654,\n",
       " 'Wed': 4286,\n",
       " 'alone': 4626,\n",
       " 'texted': 10381,\n",
       " 'remains': 9317,\n",
       " 'M221BP': 2684,\n",
       " 'mid': 8150,\n",
       " 'anyone': 4702,\n",
       " 'staring': 10049,\n",
       " 'receipts—well': 9251,\n",
       " 'posted': 8965,\n",
       " 'smash': 9859,\n",
       " 'vaazhthukkal': 10817,\n",
       " 'AGAINcall': 948,\n",
       " '85233': 858,\n",
       " 'computerless': 5643,\n",
       " '60pmin': 729,\n",
       " 'coat': 5567,\n",
       " 'english': 6313,\n",
       " 'std': 10073,\n",
       " 'CC': 1357,\n",
       " 'teaches': 10335,\n",
       " 'Studying': 3795,\n",
       " '09066649731from': 270,\n",
       " 'modelsony': 8224,\n",
       " 'joking': 7534,\n",
       " 'Pie': 3222,\n",
       " 'Wk': 4331,\n",
       " 'ntswt': 8502,\n",
       " 'den': 5954,\n",
       " 'Okay': 3065,\n",
       " 'coupla': 5746,\n",
       " 'meatballs': 8086,\n",
       " '£1450': 11370,\n",
       " 'dollar': 6116,\n",
       " 'underdtand': 10725,\n",
       " 'stamps': 10042,\n",
       " 'REMEMBER': 3341,\n",
       " 'reward': 9413,\n",
       " '9ja': 929,\n",
       " '10803': 305,\n",
       " 'slurp': 9852,\n",
       " 'gobi': 6871,\n",
       " 'eldest': 6277,\n",
       " 'generally': 6814,\n",
       " 'heron': 7105,\n",
       " 'Rally': 3374,\n",
       " 'bridge': 5171,\n",
       " '£500000': 11400,\n",
       " 'workAnd': 11156,\n",
       " 'horny': 7188,\n",
       " 'took': 10566,\n",
       " 'folks': 6635,\n",
       " 'WALES': 4196,\n",
       " 'StdTxtRate': 3779,\n",
       " 'hr': 7214,\n",
       " 'Helen': 2207,\n",
       " 'bathroom': 4942,\n",
       " 'gibbs': 6836,\n",
       " 'the4th': 10407,\n",
       " 'goal': 6868,\n",
       " 'Soany': 3721,\n",
       " 'calld': 5288,\n",
       " 'treasure': 10628,\n",
       " 'famous': 6476,\n",
       " 'advise': 4547,\n",
       " 'groovy': 6954,\n",
       " 'SW7': 3572,\n",
       " 'Ldn': 2613,\n",
       " 'Yesim': 4431,\n",
       " 'unmits': 10751,\n",
       " 'Filthy': 1910,\n",
       " 'showing': 9749,\n",
       " 'differ': 6025,\n",
       " '09066660100': 271,\n",
       " 'greatbhaji': 6938,\n",
       " 'april': 4747,\n",
       " 'diet': 6022,\n",
       " 'SPAM': 3526,\n",
       " 'yun': 11345,\n",
       " 'LA32WU': 2544,\n",
       " 'spent': 9990,\n",
       " 'nightsExcellent': 8433,\n",
       " 'melody': 8106,\n",
       " 'wins': 11096,\n",
       " 'oru': 8640,\n",
       " 'outage': 8651,\n",
       " 'strongly': 10138,\n",
       " 'I\\x92ve': 2399,\n",
       " 'K': 2468,\n",
       " 'Adult': 1015,\n",
       " 'Classic': 1486,\n",
       " '89070': 890,\n",
       " 'face': 6446,\n",
       " 'parentsi': 8732,\n",
       " 'silent': 9778,\n",
       " 'negative': 8395,\n",
       " 'Phil': 3215,\n",
       " 'July': 2463,\n",
       " 'mahfuuzmeaning': 7992,\n",
       " 'Dave': 1630,\n",
       " 'cruisin': 5791,\n",
       " 'hmm': 7143,\n",
       " '08717890890£150': 148,\n",
       " 'watchng': 10971,\n",
       " '09050005321': 190,\n",
       " 'shadow': 9681,\n",
       " 'quote': 9169,\n",
       " 'Suganya': 3808,\n",
       " 'released': 9309,\n",
       " '2309': 447,\n",
       " 'TALKED': 3840,\n",
       " 'several': 9671,\n",
       " 'sory': 9948,\n",
       " 'Somewhr': 3730,\n",
       " 'swt': 10273,\n",
       " 'cochin': 5570,\n",
       " 'kanoil': 7577,\n",
       " 'Wright': 4353,\n",
       " 'SNORINGTHEY': 3510,\n",
       " 'Tear': 3935,\n",
       " 'Abbey': 996,\n",
       " 'collegexx': 5592,\n",
       " 'wheellock': 11050,\n",
       " 'Sugar': 3809,\n",
       " 'THAT\\x92SCOOL': 3872,\n",
       " 'thati': 10401,\n",
       " '101mega': 303,\n",
       " 'needs': 8392,\n",
       " 'nuclear': 8504,\n",
       " 'SLEEPING': 3500,\n",
       " 'blog': 5080,\n",
       " 'Calls£1minmoremobsEMSPOBox45PO139WA': 1428,\n",
       " '81010': 821,\n",
       " 'heltiniIyo': 7095,\n",
       " 'hesitant': 7110,\n",
       " 'hurried': 7257,\n",
       " 'opportunityall': 8612,\n",
       " 'american': 4645,\n",
       " 'andre': 4666,\n",
       " 'saidif': 9513,\n",
       " 'hereremember': 7101,\n",
       " 'Sos': 3738,\n",
       " 'Motorola': 2880,\n",
       " 'colour': 5594,\n",
       " 'ITBOTH': 2333,\n",
       " 'grab': 6920,\n",
       " 'ish': 7436,\n",
       " 'resubbing': 9395,\n",
       " 'wwwSMSacuhmmross': 11221,\n",
       " '450': 635,\n",
       " 'headin': 7058,\n",
       " 'srs': 10026,\n",
       " 'uv': 10810,\n",
       " 'payments': 8775,\n",
       " 'housework': 7205,\n",
       " 'LOCAXX': 2572,\n",
       " 'JorgeShock': 2457,\n",
       " 'Number': 3021,\n",
       " 'customer': 5820,\n",
       " 'replacement': 9345,\n",
       " 'YESTERDAY': 4395,\n",
       " 'that‘s': 10406,\n",
       " 'filthy': 6555,\n",
       " 'Sar': 3594,\n",
       " 'thatdont': 10400,\n",
       " 'audreys': 4843,\n",
       " 'OFTEN': 3034,\n",
       " 'LRG': 2588,\n",
       " 'wkTXT': 11120,\n",
       " 'Merry': 2816,\n",
       " 'virgin': 10877,\n",
       " 'handle': 7014,\n",
       " 'youwhen': 11336,\n",
       " 'UKs': 4077,\n",
       " 'Delhi': 1644,\n",
       " 'Mob': 2849,\n",
       " 'perform': 8801,\n",
       " 'havent': 7051,\n",
       " 'goverment': 6913,\n",
       " 'otherwise': 8645,\n",
       " 'destiny': 5984,\n",
       " 'stopCost': 10107,\n",
       " 'Pa': 3178,\n",
       " 'shopthe': 9727,\n",
       " 'Hols': 2258,\n",
       " 'Jones': 2454,\n",
       " 'isare': 7434,\n",
       " 'gudk': 6972,\n",
       " 'Sub': 3801,\n",
       " 'plate': 8883,\n",
       " 'shitload': 9715,\n",
       " 'hospitals': 7193,\n",
       " '08709222922': 98,\n",
       " 'male': 8007,\n",
       " 'lane': 7693,\n",
       " 'noncomittal': 8460,\n",
       " 'Quite': 3317,\n",
       " 'THASA': 3869,\n",
       " 'NAKED': 2903,\n",
       " '08000938767': 55,\n",
       " 'blastin': 5069,\n",
       " 'KNOWNEWAY': 2480,\n",
       " 'MMSto': 2736,\n",
       " '2Untamed': 502,\n",
       " 'wanna': 10944,\n",
       " '69988': 756,\n",
       " 'sunroof': 10216,\n",
       " '08718727870': 162,\n",
       " 'everybody': 6377,\n",
       " 'corect': 5717,\n",
       " 'Remembered': 3405,\n",
       " 'added': 4520,\n",
       " 'shaved': 9696,\n",
       " 'accumulation': 4499,\n",
       " 'Loans': 2645,\n",
       " 'scary': 9566,\n",
       " 'blame': 5064,\n",
       " 'raised': 9184,\n",
       " 'sambarlife': 9525,\n",
       " 'Rum': 3442,\n",
       " 'ONE': 3042,\n",
       " 'mas': 8039,\n",
       " 'raise': 9183,\n",
       " 'eatin': 6236,\n",
       " '42049': 619,\n",
       " 'Ha': 2168,\n",
       " 'enough': 6319,\n",
       " 'correct': 5721,\n",
       " 'Mmmm': 2844,\n",
       " 'Yogasana': 4439,\n",
       " 'London': 2651,\n",
       " 'choose': 5501,\n",
       " 'kick': 7606,\n",
       " 'Hint': 2230,\n",
       " 'call': 5275,\n",
       " 'No1': 2988,\n",
       " 'videosounds2': 10863,\n",
       " 'senrddnot': 9644,\n",
       " 'TULIP': 3912,\n",
       " 'identification': 7293,\n",
       " 'xxxmobilemovieclubcomnQJKGIGHJJGCBL': 11273,\n",
       " 'Home': 2260,\n",
       " 'convincing': 5703,\n",
       " 'outdoors': 8654,\n",
       " 'Al': 1040,\n",
       " 'thia': 10428,\n",
       " 'Designation': 1653,\n",
       " 'dehydration': 5940,\n",
       " 'anonymous': 4684,\n",
       " 'Mayb': 2805,\n",
       " 'Mother': 2877,\n",
       " 'Hubby': 2282,\n",
       " 'collected': 5587,\n",
       " 'forum': 6678,\n",
       " 'general': 6813,\n",
       " 'lock': 7857,\n",
       " 'restUWud': 9387,\n",
       " 'fishrman': 6587,\n",
       " 'di': 6002,\n",
       " '8077': 818,\n",
       " 'appendix': 4727,\n",
       " 'pattern': 8765,\n",
       " 'number': 8508,\n",
       " 'agree': 4579,\n",
       " 'chrgd50p': 5507,\n",
       " 'mist': 8201,\n",
       " 'vijay': 10866,\n",
       " 'sexiest': 9673,\n",
       " 'Pic': 3219,\n",
       " 'GAME': 1969,\n",
       " 'hvae': 7267,\n",
       " 'L': 2537,\n",
       " 'ammo': 4649,\n",
       " 'Sppok': 3759,\n",
       " 'tightly': 10481,\n",
       " 'disclose': 6064,\n",
       " 'esaplanade': 6347,\n",
       " 'invoices': 7414,\n",
       " 'Becomes': 1239,\n",
       " 'gei': 6811,\n",
       " 'PARTY': 3110,\n",
       " '08712402972': 114,\n",
       " 'glory': 6862,\n",
       " 'browser': 5200,\n",
       " 'whats': 11047,\n",
       " 'weekends': 11009,\n",
       " 'unredeemed': 10754,\n",
       " 'got': 6906,\n",
       " 'nanny': 8355,\n",
       " 'wthout': 11203,\n",
       " 'Sen': 3622,\n",
       " 'MilkdayNo': 2828,\n",
       " '6pm': 768,\n",
       " 'grown': 6961,\n",
       " 'eerie': 6252,\n",
       " 'Yup': 4450,\n",
       " 'fink': 6575,\n",
       " 'amore': 4653,\n",
       " 'MoralDont': 2872,\n",
       " '£s': 11413,\n",
       " 'weighed': 11014,\n",
       " 'spring': 10019,\n",
       " 'Deeraj': 1641,\n",
       " 'ArPraveesh': 1081,\n",
       " 'spin': 9994,\n",
       " 'Scoring': 3611,\n",
       " 'coping': 5714,\n",
       " 'essay': 6355,\n",
       " 'announced': 4680,\n",
       " 'Kit': 2513,\n",
       " 'fineInshah': 6566,\n",
       " 'msgsometext': 8289,\n",
       " '2morow': 519,\n",
       " 'kbut': 7585,\n",
       " 'HELLOGORGEOUS': 2128,\n",
       " 'Holla': 2257,\n",
       " 'Change': 1459,\n",
       " 'movie': 8273,\n",
       " 'messageIts': 8134,\n",
       " 'enjoyed': 6315,\n",
       " 'lonlines': 7878,\n",
       " 'Printer': 3282,\n",
       " 'ansr': 4688,\n",
       " 'Feb': 1900,\n",
       " 'werent': 11033,\n",
       " 'definitely': 5935,\n",
       " 'doc': 6091,\n",
       " '4U': 657,\n",
       " 'Hmph': 2247,\n",
       " 'Might': 2824,\n",
       " 'DOESNT': 1592,\n",
       " 'dane': 5852,\n",
       " 'lined': 7812,\n",
       " 'HAUGHAIGHGTUJHYGUJ': 2117,\n",
       " 'joining': 7528,\n",
       " 'THANX': 3867,\n",
       " 'festival': 6529,\n",
       " 'flights': 6609,\n",
       " 'sundayish': 10212,\n",
       " 'Subscriptn3gbpwk': 3806,\n",
       " 'career': 5339,\n",
       " 'smell': 9862,\n",
       " 'Pose': 3261,\n",
       " 'burning': 5233,\n",
       " 'sat': 9539,\n",
       " 'invitation': 7409,\n",
       " 'bitching': 5055,\n",
       " 'cmon': 5562,\n",
       " 'lonely': 7875,\n",
       " 'reppurcussions': 9353,\n",
       " 'hurt': 7259,\n",
       " '7Children': 791,\n",
       " 'Yep': 4424,\n",
       " 'hint': 7129,\n",
       " 'transcribing': 10612,\n",
       " '3Wife': 590,\n",
       " 'Sender': 3624,\n",
       " 'Loads': 2643,\n",
       " 'captain': 5329,\n",
       " 'tylers': 10693,\n",
       " 'im': 7307,\n",
       " 'login': 7864,\n",
       " 'allah': 4617,\n",
       " '08712460324': 118,\n",
       " 'wednesday': 11001,\n",
       " 'Sent': 3628,\n",
       " 'chill': 5489,\n",
       " 'Reach': 3382,\n",
       " 'outhave': 8658,\n",
       " 'Langport': 2604,\n",
       " 'activate': 4513,\n",
       " 'tomorrow': 10549,\n",
       " 'NICHOLS': 2921,\n",
       " '5WQ': 711,\n",
       " 'Mine': 2831,\n",
       " 'mutations': 8328,\n",
       " 'POBOX11414TCRW1': 3139,\n",
       " 'phoned': 8834,\n",
       " 'describe': 5973,\n",
       " 'goalsteam': 6870,\n",
       " 'ana': 4661,\n",
       " 'posterode': 8966,\n",
       " 'fantasy': 6484,\n",
       " 'married': 8036,\n",
       " 'atm': 4823,\n",
       " 'drpd': 6179,\n",
       " '5903': 702,\n",
       " 'petrol': 8821,\n",
       " 'w8in': 10912,\n",
       " 'sign': 9770,\n",
       " 'favourite': 6507,\n",
       " 'Phone': 3217,\n",
       " 'Adrian': 1014,\n",
       " 'scrumptious': 9590,\n",
       " 'subscribe': 10172,\n",
       " 'Test': 3952,\n",
       " '08715203677': 136,\n",
       " 'amigos': 4646,\n",
       " 'Fingers': 1915,\n",
       " 'simulate': 9787,\n",
       " 'Peteynoi\\x92m': 3210,\n",
       " 'whether': 11057,\n",
       " 'aphex\\x92s': 4718,\n",
       " 'slippers': 9842,\n",
       " 'Case': 1446,\n",
       " 'prescription': 9020,\n",
       " 'thing': 10430,\n",
       " 'Que': 3310,\n",
       " 'NYUSA': 2946,\n",
       " '07973788240': 47,\n",
       " 'thinked': 10435,\n",
       " 'Natalie': 2952,\n",
       " 'creative': 5772,\n",
       " '151': 377,\n",
       " 'A21': 933,\n",
       " 'ultimatum': 10709,\n",
       " 'redred': 9277,\n",
       " 'Hallaq': 2179,\n",
       " 'transfr': 10617,\n",
       " 'casting': 5370,\n",
       " 'princess': 9047,\n",
       " 'brought': 5196,\n",
       " 'held': 7082,\n",
       " 'barring': 4927,\n",
       " '150P': 354,\n",
       " 'Strokes': 3792,\n",
       " 'sophas': 9937,\n",
       " 'goes': 6877,\n",
       " 'takenOnly': 10297,\n",
       " 'TALKIN': 3841,\n",
       " 'stairs': 10038,\n",
       " 'boy': 5143,\n",
       " 'snowball': 9890,\n",
       " 'Reading': 3385,\n",
       " 'kids': 7612,\n",
       " 'vibrate': 10853,\n",
       " 'Driver': 1710,\n",
       " 'double': 6134,\n",
       " 'Wet': 4299,\n",
       " 'darlings': 5865,\n",
       " 'priceso': 9040,\n",
       " 'frequently': 6709,\n",
       " 'specially': 9977,\n",
       " 'jod': 7519,\n",
       " 'trouble': 10644,\n",
       " 'Gods': 2064,\n",
       " 'GOTMARRIED': 2013,\n",
       " 'mono': 8245,\n",
       " 'random': 9192,\n",
       " 'broken': 5188,\n",
       " 'recreation': 9273,\n",
       " 'Hows': 2279,\n",
       " 'tp': 10600,\n",
       " 'celeb': 5390,\n",
       " '08715205273': 139,\n",
       " 'Sms': 3718,\n",
       " 'disaster': 6060,\n",
       " 'firsg': 6583,\n",
       " 'Nikiyu4net': 2983,\n",
       " 'avent': 4862,\n",
       " 'village': 10872,\n",
       " 'fixd': 6592,\n",
       " 'ah': 4580,\n",
       " 'Jia': 2444,\n",
       " 'nokia': 8455,\n",
       " 'apologise': 4720,\n",
       " 'Arrow': 1090,\n",
       " 'darlinim': 5866,\n",
       " 'Mite': 2840,\n",
       " 'smoke': 9870,\n",
       " 'leave': 7742,\n",
       " 'ADDAMSFA': 942,\n",
       " 'Ugh': 4102,\n",
       " 'beach': 4959,\n",
       " 'shot': 9736,\n",
       " '515': 691,\n",
       " 'wocay': 11133,\n",
       " 'waves': 10978,\n",
       " 'MojiBiola': 2860,\n",
       " '69888Nyt': 753,\n",
       " 'LADIES': 2545,\n",
       " 'Put': 3302,\n",
       " 'bad': 4896,\n",
       " 'closer': 5550,\n",
       " 'sometme': 9920,\n",
       " 'revealed': 9409,\n",
       " 'reserves': 9369,\n",
       " 'nitro': 8444,\n",
       " 'unfortunately': 10735,\n",
       " 'Reverse': 3418,\n",
       " 'casualty': 5372,\n",
       " '74355': 781,\n",
       " 'panicks': 8711,\n",
       " '29100': 476,\n",
       " 'noun': 8487,\n",
       " '88877': 886,\n",
       " 'dirtiest': 6054,\n",
       " 'hole': 7152,\n",
       " 'BOX420': 1184,\n",
       " 'Lk': 2640,\n",
       " 'citylink': 5518,\n",
       " '18yrs': 394,\n",
       " 'nange': 8354,\n",
       " 'slow': 9848,\n",
       " 'omw': 8584,\n",
       " 'relieved': 9311,\n",
       " 'mins': 8175,\n",
       " 'YOURJOB': 4403,\n",
       " 'thkin': 10443,\n",
       " 'wouldnt': 11182,\n",
       " 'iouri': 7417,\n",
       " 'hee': 7081,\n",
       " 'VPOD': 4157,\n",
       " 'bleak': 5070,\n",
       " 'hour': 7199,\n",
       " 'mall': 8008,\n",
       " 'tiz': 10510,\n",
       " 'Weekly': 4289,\n",
       " 'teams': 10339,\n",
       " 'govtinstituitions': 6914,\n",
       " 'develop': 5991,\n",
       " 'STATION': 3546,\n",
       " '08718726978': 159,\n",
       " 'lifetime': 7791,\n",
       " '6Cruel': 757,\n",
       " 'accordinglyor': 4495,\n",
       " 'anythingtomorrow': 4709,\n",
       " 'moved': 8271,\n",
       " 'eightish': 6268,\n",
       " 'Fri': 1950,\n",
       " 'rebtel': 9245,\n",
       " 'kisi': 7626,\n",
       " 'track': 10601,\n",
       " '116': 322,\n",
       " 'period': 8806,\n",
       " 'package': 8691,\n",
       " 'Waste': 4273,\n",
       " 'meim': 8101,\n",
       " '08712400603': 109,\n",
       " 'mjzgroup': 8209,\n",
       " 'comingtmorow': 5612,\n",
       " 'craziest': 5768,\n",
       " 'shagged': 9683,\n",
       " 'grandma': 6927,\n",
       " '09090900040': 277,\n",
       " 'Stereophonics': 3780,\n",
       " 'Earth': 1756,\n",
       " 'WaitU': 4257,\n",
       " 'reckon': 9264,\n",
       " 'funeral': 6760,\n",
       " 'wif': 11072,\n",
       " 'logo': 7865,\n",
       " 'Hitechnical': 2232,\n",
       " 'yorge': 11313,\n",
       " 'would': 11180,\n",
       " 'minuts': 8183,\n",
       " 'Vouchers': 4185,\n",
       " 'ac': 4478,\n",
       " 'wwwbridalpetticoatdreamscouk': 11225,\n",
       " 'texting': 10383,\n",
       " 'flat': 6601,\n",
       " 'Panther': 3185,\n",
       " 'painhope': 8702,\n",
       " 'swalpa': 10253,\n",
       " 'scrounge': 9589,\n",
       " 'week': 11006,\n",
       " 'hav': 7048,\n",
       " '09096102316': 282,\n",
       " 'mens': 8117,\n",
       " 'ow': 8676,\n",
       " 'heavy': 7079,\n",
       " 'trouser': 10646,\n",
       " 'god': 6872,\n",
       " 'manage': 8010,\n",
       " 'usLET': 10789,\n",
       " 'Dare': 1621,\n",
       " 'Ctargg': 1546,\n",
       " 'bot': 5127,\n",
       " 'toopray': 10570,\n",
       " 'kid': 7610,\n",
       " 'FANTASTIC': 1836,\n",
       " 'Kkwhere': 2527,\n",
       " 'dr': 6145,\n",
       " 'FUDGE': 1888,\n",
       " 'darker': 5860,\n",
       " 'lobby': 7853,\n",
       " 'chip': 5497,\n",
       " 'packing': 8693,\n",
       " 'ignore': 7301,\n",
       " 'topicsorry': 10576,\n",
       " 'ese': 6350,\n",
       " 'brain': 5151,\n",
       " 'idconvey': 7289,\n",
       " 'daily': 5844,\n",
       " 'nannys': 8356,\n",
       " 'innu': 7373,\n",
       " 'MESSAGEThanks': 2715,\n",
       " 'TONES2U': 3894,\n",
       " 'whens': 11052,\n",
       " 'locations': 7856,\n",
       " 'Carlosll': 1444,\n",
       " 'polyPH': 8926,\n",
       " 'pissed': 8866,\n",
       " 'Dint': 1670,\n",
       " 'icky': 7285,\n",
       " 'orc': 8627,\n",
       " 'Lucy': 2678,\n",
       " 'cage': 5265,\n",
       " 'si': 9761,\n",
       " 'Huh': 2284,\n",
       " '1pm': 415,\n",
       " 'running': 9493,\n",
       " 'friendsare': 6720,\n",
       " 'OFFICE': 3032,\n",
       " 'women': 11138,\n",
       " 'TEXT': 3860,\n",
       " 'Christmas': 1480,\n",
       " 'slower': 9849,\n",
       " 'korli': 7655,\n",
       " 'DADS': 1563,\n",
       " 'enketa': 6317,\n",
       " 'style': 10162,\n",
       " 'irritated': 7428,\n",
       " 'MonthlySubscription50pmsg': 2868,\n",
       " 'mad': 7976,\n",
       " 'team': 10338,\n",
       " 'wap': 10950,\n",
       " 'gf': 6834,\n",
       " '87077': 870,\n",
       " 'BOX95QU': 1186,\n",
       " '80062': 806,\n",
       " 'foot': 6648,\n",
       " 'benefits': 5012,\n",
       " '12price': 340,\n",
       " 'tonitebusy': 10560,\n",
       " 'Otherwise': 3100,\n",
       " 'speeding': 9983,\n",
       " 'W45WQ': 4192,\n",
       " 'FRNDSHIP': 1881,\n",
       " 'oblivious': 8531,\n",
       " 'clean': 5532,\n",
       " 'WHASSUP': 4214,\n",
       " 'Ssnervous': 3768,\n",
       " 'promoting': 9095,\n",
       " 'Üll': 11416,\n",
       " 'Especially': 1793,\n",
       " 'nag': 8341,\n",
       " 'ducking': 6195,\n",
       " 'K61': 2470,\n",
       " 'sitting': 9807,\n",
       " 'RowW1J6HL': 3436,\n",
       " 'puts': 9142,\n",
       " 'veggie': 10840,\n",
       " 'beeen': 4979,\n",
       " 'soil': 9900,\n",
       " 'toilet': 10534,\n",
       " '730ish': 778,\n",
       " 'pic': 8842,\n",
       " 'callertune': 5292,\n",
       " 'lionm': 7822,\n",
       " 'Quick': 3316,\n",
       " 'mirror': 8185,\n",
       " '08701213186': 76,\n",
       " 'coccooning': 5569,\n",
       " 'dramastorms': 6147,\n",
       " 'places': 8874,\n",
       " 'reading': 9223,\n",
       " 'actually': 4517,\n",
       " 'ta': 10281,\n",
       " 'overdid': 8669,\n",
       " 'cry': 5793,\n",
       " 'Ding': 1668,\n",
       " 'Tone': 4019,\n",
       " 'digi': 6033,\n",
       " 'viveki': 10889,\n",
       " 'racing': 9172,\n",
       " '08712402779': 112,\n",
       " 'server': 9660,\n",
       " 'urination': 10783,\n",
       " 'excited': 6402,\n",
       " 'suntec': 10218,\n",
       " 'receipts': 9250,\n",
       " 'Nothin': 3013,\n",
       " 'hv': 7266,\n",
       " 'RP176781': 3360,\n",
       " 'Kkwhy': 2528,\n",
       " 'textoperator': 10384,\n",
       " 'visa': 10880,\n",
       " 'addicted': 4521,\n",
       " 'maths': 8052,\n",
       " 'booking': 5113,\n",
       " 'darlin': 5863,\n",
       " 'num': 8507,\n",
       " 'Coffee': 1496,\n",
       " 'lie': 7784,\n",
       " 'ba': 4884,\n",
       " 'boring': 5122,\n",
       " 'houseful': 7203,\n",
       " 'Funny': 1960,\n",
       " 'Wylie': 4358,\n",
       " 'LATE': 2548,\n",
       " '450Ppw': 636,\n",
       " 'church': 5513,\n",
       " 'jolly': 7535,\n",
       " 'filthyguys': 6556,\n",
       " 'treated': 10630,\n",
       " 'dangerous': 5855,\n",
       " '2GEVA': 485,\n",
       " 'pure': 9135,\n",
       " 'Contact': 1516,\n",
       " 'keen': 7587,\n",
       " 'FILTH': 1846,\n",
       " 'prices': 9039,\n",
       " 'sec': 9600,\n",
       " 'mates': 8049,\n",
       " 'Chef': 1471,\n",
       " 'Seem': 3620,\n",
       " 'flag': 6596,\n",
       " 'beehoon': 4980,\n",
       " 'wearing': 10988,\n",
       " 'upsetits': 10774,\n",
       " 'relocate': 9313,\n",
       " '4w': 681,\n",
       " 'epi': 6335,\n",
       " 'handsome': 7017,\n",
       " 'Thanks': 3958,\n",
       " 'combination': 5599,\n",
       " 'shaking': 9686,\n",
       " 'honest': 7166,\n",
       " 'CHEER': 1370,\n",
       " 'accidentally': 4489,\n",
       " 'plans': 8882,\n",
       " 'Everybody': 1807,\n",
       " 'EyedDont': 1830,\n",
       " 'uworld': 10814,\n",
       " 'closeby': 5547,\n",
       " 'regret': 9299,\n",
       " 'Emily': 1778,\n",
       " 'Schools': 3609,\n",
       " '0578': 17,\n",
       " 'Waaaat': 4253,\n",
       " 'minAPN': 8162,\n",
       " 'grave': 6933,\n",
       " 'Cha': 1456,\n",
       " 'bridgwater': 5172,\n",
       " 'evo': 6391,\n",
       " 'POBox334': 3143,\n",
       " '07815296484': 41,\n",
       " 'employers': 6295,\n",
       " 'good': 6892,\n",
       " 'dhina': 6000,\n",
       " 'weirdy': 11020,\n",
       " 'meeting': 8094,\n",
       " 'East': 1757,\n",
       " 'donewant': 6121,\n",
       " 'GUD': 2023,\n",
       " 'stressful': 10128,\n",
       " 'moan': 8214,\n",
       " 'us': 10787,\n",
       " 'drum': 6183,\n",
       " '09061702893': 222,\n",
       " 'crash': 5763,\n",
       " 'ER': 1734,\n",
       " 'VAT': 4148,\n",
       " 'cash': 5363,\n",
       " 'envelope': 6333,\n",
       " 'nights': 8432,\n",
       " 'enters': 6322,\n",
       " 'Upd8': 4127,\n",
       " 'ENTRY': 1732,\n",
       " 'allday': 4619,\n",
       " 'confidence': 5659,\n",
       " 'partnership': 8745,\n",
       " 'hudgi': 7234,\n",
       " 'tonitethings': 10561,\n",
       " 'Hlp': 2236,\n",
       " 'Guys': 2107,\n",
       " 'wanted': 10947,\n",
       " 'DATE': 1568,\n",
       " 'mia': 8149,\n",
       " 'av': 4853,\n",
       " 'Game': 2029,\n",
       " 'admit': 4534,\n",
       " 'Ave': 1111,\n",
       " 'Centre': 1455,\n",
       " 'temper': 10363,\n",
       " 'reached': 9216,\n",
       " 'hourish': 7200,\n",
       " 'gist': 6848,\n",
       " 'Nottingham': 3016,\n",
       " 'KNACKERED': 2478,\n",
       " 'Met': 2821,\n",
       " 'songs': 9928,\n",
       " 'charts': 5431,\n",
       " 'call2optoutF4Q': 5278,\n",
       " 'Sir': 3690,\n",
       " 'uks': 10707,\n",
       " 'blankets': 5068,\n",
       " '4give': 665,\n",
       " 'Ultimately': 4109,\n",
       " 'W1A': 4189,\n",
       " 'traffic': 10603,\n",
       " 'papa': 8716,\n",
       " 'guides': 6979,\n",
       " 'Chk': 1476,\n",
       " 'Argument': 1086,\n",
       " 'amk': 4647,\n",
       " 'PoBox12n146tf150p': 3245,\n",
       " 'argentina': 4761,\n",
       " 'posting': 8967,\n",
       " 'darkness': 5862,\n",
       " 'pieces': 8853,\n",
       " 'thesis': 10424,\n",
       " 'yeah': 11289,\n",
       " 'OUTSOMEWHERE': 3052,\n",
       " 'Hahatake': 2174,\n",
       " 'shipping': 9710,\n",
       " 'Cold': 1497,\n",
       " 'doublefaggot': 6135,\n",
       " 'Aft': 1019,\n",
       " 'Sonetimes': 3731,\n",
       " 'Redim': 3395,\n",
       " 'lyf': 7958,\n",
       " 'book': 5110,\n",
       " 'S89': 3446,\n",
       " 'Luv': 2680,\n",
       " 'children': 5486,\n",
       " 'Shuhui': 3674,\n",
       " '09065174042': 249,\n",
       " 'lotto': 7904,\n",
       " 'red': 9275,\n",
       " 'reformat': 9287,\n",
       " '08712101358': 102,\n",
       " 'teeth': 10348,\n",
       " 'hides': 7119,\n",
       " ...}"
      ]
     },
     "execution_count": 36,
     "metadata": {},
     "output_type": "execute_result"
    }
   ],
   "source": [
    "print(len(bow_transformer.vocabulary_))\n",
    "bow_transformer.vocabulary_"
   ]
  },
  {
   "cell_type": "code",
   "execution_count": 37,
   "metadata": {},
   "outputs": [
    {
     "name": "stdout",
     "output_type": "stream",
     "text": [
      "U dun say so early hor... U c already then say...\n"
     ]
    }
   ],
   "source": [
    "mess4 = messages['messages'][3]\n",
    "print(mess4)"
   ]
  },
  {
   "cell_type": "markdown",
   "metadata": {},
   "source": []
  },
  {
   "cell_type": "code",
   "execution_count": 62,
   "metadata": {},
   "outputs": [
    {
     "name": "stdout",
     "output_type": "stream",
     "text": [
      "  (0, 4068)\t2\n",
      "  (0, 4629)\t1\n",
      "  (0, 5261)\t1\n",
      "  (0, 6204)\t1\n",
      "  (0, 6222)\t1\n",
      "  (0, 7186)\t1\n",
      "  (0, 9554)\t2\n"
     ]
    }
   ],
   "source": [
    "bow4 = bow_transformer.transform([mess4])\n",
    "print(bow4)"
   ]
  },
  {
   "cell_type": "code",
   "execution_count": 39,
   "metadata": {},
   "outputs": [
    {
     "name": "stdout",
     "output_type": "stream",
     "text": [
      "(1, 11425)\n"
     ]
    }
   ],
   "source": [
    "print(bow4.shape)"
   ]
  },
  {
   "cell_type": "code",
   "execution_count": null,
   "metadata": {
    "collapsed": true
   },
   "outputs": [],
   "source": []
  },
  {
   "cell_type": "code",
   "execution_count": 40,
   "metadata": {},
   "outputs": [
    {
     "data": {
      "text/plain": [
       "'say'"
      ]
     },
     "execution_count": 40,
     "metadata": {},
     "output_type": "execute_result"
    }
   ],
   "source": [
    "bow_transformer.get_feature_names()[9554]"
   ]
  },
  {
   "cell_type": "code",
   "execution_count": 41,
   "metadata": {
    "collapsed": true
   },
   "outputs": [],
   "source": [
    "messages_bow = bow_transformer.transform(messages['messages'])"
   ]
  },
  {
   "cell_type": "code",
   "execution_count": 42,
   "metadata": {},
   "outputs": [
    {
     "name": "stdout",
     "output_type": "stream",
     "text": [
      "Shape of Sparse Matrix (5572, 11425)\n"
     ]
    }
   ],
   "source": [
    "print(\"Shape of Sparse Matrix\", messages_bow.shape)"
   ]
  },
  {
   "cell_type": "code",
   "execution_count": 43,
   "metadata": {},
   "outputs": [
    {
     "data": {
      "text/plain": [
       "50548"
      ]
     },
     "execution_count": 43,
     "metadata": {},
     "output_type": "execute_result"
    }
   ],
   "source": [
    "messages_bow.nnz #non-zero values"
   ]
  },
  {
   "cell_type": "code",
   "execution_count": 44,
   "metadata": {},
   "outputs": [
    {
     "name": "stdout",
     "output_type": "stream",
     "text": [
      "Sparsity:  0\n"
     ]
    }
   ],
   "source": [
    "#Fullness\n",
    "sparsity = (100.0 * (messages_bow.nnz/(messages_bow.shape[0]*messages_bow.shape[1])))\n",
    "print(\"Sparsity: \", round(sparsity))"
   ]
  },
  {
   "cell_type": "code",
   "execution_count": 45,
   "metadata": {
    "collapsed": true
   },
   "outputs": [],
   "source": [
    "from sklearn.feature_extraction.text import TfidfTransformer"
   ]
  },
  {
   "cell_type": "code",
   "execution_count": 46,
   "metadata": {
    "collapsed": true
   },
   "outputs": [],
   "source": [
    "tfidf_transformer = TfidfTransformer().fit(messages_bow)"
   ]
  },
  {
   "cell_type": "code",
   "execution_count": 64,
   "metadata": {},
   "outputs": [],
   "source": [
    "tfidf4 = tfidf_transformer.transform(bow4)"
   ]
  },
  {
   "cell_type": "code",
   "execution_count": 67,
   "metadata": {},
   "outputs": [
    {
     "name": "stdout",
     "output_type": "stream",
     "text": [
      "  (0, 9554)\t0.538562626293\n",
      "  (0, 7186)\t0.438936565338\n",
      "  (0, 6222)\t0.318721689295\n",
      "  (0, 6204)\t0.299537997237\n",
      "  (0, 5261)\t0.297299574059\n",
      "  (0, 4629)\t0.266198019061\n",
      "  (0, 4068)\t0.408325899334\n"
     ]
    },
    {
     "data": {
      "text/plain": [
       "(1, 11425)"
      ]
     },
     "execution_count": 67,
     "metadata": {},
     "output_type": "execute_result"
    }
   ],
   "source": [
    "print(tfidf4)\n",
    "tfidf4.shape"
   ]
  },
  {
   "cell_type": "code",
   "execution_count": 69,
   "metadata": {},
   "outputs": [
    {
     "data": {
      "text/plain": [
       "8.9325416070095898"
      ]
     },
     "execution_count": 69,
     "metadata": {},
     "output_type": "execute_result"
    }
   ],
   "source": [
    "tfidf_transformer.idf_[bow_transformer.vocabulary_['unconscious']]"
   ]
  },
  {
   "cell_type": "code",
   "execution_count": 89,
   "metadata": {},
   "outputs": [
    {
     "name": "stdout",
     "output_type": "stream",
     "text": [
      "(5572, 11425)\n"
     ]
    }
   ],
   "source": [
    "messages_tfidf = tfidf_transformer.transform(messages_bow)\n",
    "print(messages_tfidf.shape)"
   ]
  },
  {
   "cell_type": "code",
   "execution_count": null,
   "metadata": {
    "collapsed": true
   },
   "outputs": [],
   "source": [
    "#Training the model"
   ]
  },
  {
   "cell_type": "code",
   "execution_count": 51,
   "metadata": {
    "collapsed": true
   },
   "outputs": [],
   "source": [
    "from sklearn.naive_bayes import MultinomialNB"
   ]
  },
  {
   "cell_type": "code",
   "execution_count": 83,
   "metadata": {
    "collapsed": true
   },
   "outputs": [],
   "source": [
    "spam_detect_model = MultinomialNB().fit(messages_tfidf, messages['labels'])"
   ]
  },
  {
   "cell_type": "code",
   "execution_count": 88,
   "metadata": {},
   "outputs": [
    {
     "name": "stdout",
     "output_type": "stream",
     "text": [
      "Predicted label for 4th SMS:  ham\n",
      "Actual label for 4th SMS:  ham\n"
     ]
    }
   ],
   "source": [
    "print(\"Predicted label for 4th SMS: \",spam_detect_model.predict(tfidf4)[0])\n",
    "print(\"Actual label for 4th SMS: \",messages['labels'][3])"
   ]
  },
  {
   "cell_type": "code",
   "execution_count": 76,
   "metadata": {},
   "outputs": [
    {
     "name": "stdout",
     "output_type": "stream",
     "text": [
      "['ham' 'ham' 'spam' ..., 'ham' 'ham' 'ham']\n"
     ]
    }
   ],
   "source": [
    "all_predictions = spam_detect_model.predict(messages_tfidf)\n",
    "print(all_predictions)"
   ]
  },
  {
   "cell_type": "code",
   "execution_count": 102,
   "metadata": {
    "collapsed": true
   },
   "outputs": [],
   "source": [
    "#Accuracy is 100% as we are testing on the same data on which we trained, so we need to split the dataset"
   ]
  },
  {
   "cell_type": "code",
   "execution_count": 104,
   "metadata": {},
   "outputs": [
    {
     "name": "stdout",
     "output_type": "stream",
     "text": [
      "             precision    recall  f1-score   support\n",
      "\n",
      "        ham       0.98      1.00      0.99      4825\n",
      "       spam       1.00      0.85      0.92       747\n",
      "\n",
      "avg / total       0.98      0.98      0.98      5572\n",
      "\n"
     ]
    }
   ],
   "source": [
    "#Evaluating the model\n",
    "\n",
    "from sklearn.metrics import classification_report\n",
    "print(classification_report(messages['labels'], all_predictions))"
   ]
  },
  {
   "cell_type": "code",
   "execution_count": 106,
   "metadata": {},
   "outputs": [],
   "source": [
    "from sklearn.cross_validation import train_test_split"
   ]
  },
  {
   "cell_type": "code",
   "execution_count": 93,
   "metadata": {},
   "outputs": [
    {
     "name": "stdout",
     "output_type": "stream",
     "text": [
      "3900 1672 5572\n"
     ]
    }
   ],
   "source": [
    "msg_train, msg_test, label_train, label_test = \\\n",
    "train_test_split(messages['messages'], messages['labels'], test_size=0.3)\n",
    "print(len(msg_train), len(msg_test), len(msg_train)+ len(msg_test))"
   ]
  },
  {
   "cell_type": "code",
   "execution_count": 94,
   "metadata": {
    "collapsed": true
   },
   "outputs": [],
   "source": [
    "#Creating a pipeline as the steps to be followed stays the same\n",
    "from sklearn.pipeline import Pipeline\n",
    "\n",
    "\n",
    "pipeline = Pipeline([\n",
    "    ('bag_of_words', CountVectorizer(analyzer=text_cleaner)),\n",
    "    ('tfidf', TfidfTransformer()),\n",
    "    ('classifier', MultinomialNB())\n",
    "])"
   ]
  },
  {
   "cell_type": "code",
   "execution_count": 97,
   "metadata": {},
   "outputs": [
    {
     "data": {
      "text/plain": [
       "Pipeline(steps=[('bag_of_words', CountVectorizer(analyzer=<function text_cleaner at 0x7fe87dd30400>,\n",
       "        binary=False, decode_error='strict', dtype=<class 'numpy.int64'>,\n",
       "        encoding='utf-8', input='content', lowercase=True, max_df=1.0,\n",
       "        max_features=None, min_df=1, ngram_range=(1, 1), prepro...f=False, use_idf=True)), ('classifier', MultinomialNB(alpha=1.0, class_prior=None, fit_prior=True))])"
      ]
     },
     "execution_count": 97,
     "metadata": {},
     "output_type": "execute_result"
    }
   ],
   "source": [
    "pipeline.fit(msg_train, label_train)"
   ]
  },
  {
   "cell_type": "code",
   "execution_count": 98,
   "metadata": {
    "collapsed": true
   },
   "outputs": [],
   "source": [
    "predictions = pipeline.predict(msg_test)"
   ]
  },
  {
   "cell_type": "code",
   "execution_count": 112,
   "metadata": {},
   "outputs": [
    {
     "name": "stdout",
     "output_type": "stream",
     "text": [
      "             precision    recall  f1-score   support\n",
      "\n",
      "        ham       1.00      0.96      0.98      1529\n",
      "       spam       0.69      1.00      0.82       143\n",
      "\n",
      "avg / total       0.97      0.96      0.96      1672\n",
      "\n"
     ]
    }
   ],
   "source": [
    "print(classification_report(predictions, label_test))\n"
   ]
  }
 ],
 "metadata": {
  "kernelspec": {
   "display_name": "Python 3",
   "language": "python",
   "name": "python3"
  },
  "language_info": {
   "codemirror_mode": {
    "name": "ipython",
    "version": 3
   },
   "file_extension": ".py",
   "mimetype": "text/x-python",
   "name": "python",
   "nbconvert_exporter": "python",
   "pygments_lexer": "ipython3",
   "version": "3.5.2"
  }
 },
 "nbformat": 4,
 "nbformat_minor": 2
}
